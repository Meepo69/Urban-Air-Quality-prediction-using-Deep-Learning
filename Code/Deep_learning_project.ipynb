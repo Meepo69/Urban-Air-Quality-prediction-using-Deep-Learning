{
  "nbformat": 4,
  "nbformat_minor": 0,
  "metadata": {
    "colab": {
      "provenance": []
    },
    "kernelspec": {
      "name": "python3",
      "display_name": "Python 3"
    },
    "language_info": {
      "name": "python"
    }
  },
  "cells": [
    {
      "cell_type": "code",
      "source": [
        "!pip install keras-tuner\n"
      ],
      "metadata": {
        "colab": {
          "base_uri": "https://localhost:8080/"
        },
        "id": "grK6WyaMD2Z-",
        "outputId": "e0034db6-b23e-4a71-a0e5-757ca21b74bc"
      },
      "execution_count": null,
      "outputs": [
        {
          "output_type": "stream",
          "name": "stdout",
          "text": [
            "Collecting keras-tuner\n",
            "  Downloading keras_tuner-1.4.7-py3-none-any.whl.metadata (5.4 kB)\n",
            "Requirement already satisfied: keras in /usr/local/lib/python3.10/dist-packages (from keras-tuner) (3.5.0)\n",
            "Requirement already satisfied: packaging in /usr/local/lib/python3.10/dist-packages (from keras-tuner) (24.2)\n",
            "Requirement already satisfied: requests in /usr/local/lib/python3.10/dist-packages (from keras-tuner) (2.32.3)\n",
            "Collecting kt-legacy (from keras-tuner)\n",
            "  Downloading kt_legacy-1.0.5-py3-none-any.whl.metadata (221 bytes)\n",
            "Requirement already satisfied: absl-py in /usr/local/lib/python3.10/dist-packages (from keras->keras-tuner) (1.4.0)\n",
            "Requirement already satisfied: numpy in /usr/local/lib/python3.10/dist-packages (from keras->keras-tuner) (1.26.4)\n",
            "Requirement already satisfied: rich in /usr/local/lib/python3.10/dist-packages (from keras->keras-tuner) (13.9.4)\n",
            "Requirement already satisfied: namex in /usr/local/lib/python3.10/dist-packages (from keras->keras-tuner) (0.0.8)\n",
            "Requirement already satisfied: h5py in /usr/local/lib/python3.10/dist-packages (from keras->keras-tuner) (3.12.1)\n",
            "Requirement already satisfied: optree in /usr/local/lib/python3.10/dist-packages (from keras->keras-tuner) (0.13.1)\n",
            "Requirement already satisfied: ml-dtypes in /usr/local/lib/python3.10/dist-packages (from keras->keras-tuner) (0.4.1)\n",
            "Requirement already satisfied: charset-normalizer<4,>=2 in /usr/local/lib/python3.10/dist-packages (from requests->keras-tuner) (3.4.0)\n",
            "Requirement already satisfied: idna<4,>=2.5 in /usr/local/lib/python3.10/dist-packages (from requests->keras-tuner) (3.10)\n",
            "Requirement already satisfied: urllib3<3,>=1.21.1 in /usr/local/lib/python3.10/dist-packages (from requests->keras-tuner) (2.2.3)\n",
            "Requirement already satisfied: certifi>=2017.4.17 in /usr/local/lib/python3.10/dist-packages (from requests->keras-tuner) (2024.8.30)\n",
            "Requirement already satisfied: typing-extensions>=4.5.0 in /usr/local/lib/python3.10/dist-packages (from optree->keras->keras-tuner) (4.12.2)\n",
            "Requirement already satisfied: markdown-it-py>=2.2.0 in /usr/local/lib/python3.10/dist-packages (from rich->keras->keras-tuner) (3.0.0)\n",
            "Requirement already satisfied: pygments<3.0.0,>=2.13.0 in /usr/local/lib/python3.10/dist-packages (from rich->keras->keras-tuner) (2.18.0)\n",
            "Requirement already satisfied: mdurl~=0.1 in /usr/local/lib/python3.10/dist-packages (from markdown-it-py>=2.2.0->rich->keras->keras-tuner) (0.1.2)\n",
            "Downloading keras_tuner-1.4.7-py3-none-any.whl (129 kB)\n",
            "\u001b[2K   \u001b[90m━━━━━━━━━━━━━━━━━━━━━━━━━━━━━━━━━━━━━━━━\u001b[0m \u001b[32m129.1/129.1 kB\u001b[0m \u001b[31m2.6 MB/s\u001b[0m eta \u001b[36m0:00:00\u001b[0m\n",
            "\u001b[?25hDownloading kt_legacy-1.0.5-py3-none-any.whl (9.6 kB)\n",
            "Installing collected packages: kt-legacy, keras-tuner\n",
            "Successfully installed keras-tuner-1.4.7 kt-legacy-1.0.5\n"
          ]
        }
      ]
    },
    {
      "cell_type": "code",
      "execution_count": null,
      "metadata": {
        "id": "_J121uE-8F4L"
      },
      "outputs": [],
      "source": [
        "import pandas as pd\n",
        "import numpy as np\n",
        "from sklearn.model_selection import train_test_split\n",
        "from sklearn.preprocessing import MinMaxScaler\n",
        "from tensorflow.keras.models import Model\n",
        "from tensorflow.keras.layers import LSTM, Dense, Dropout, Input\n",
        "import matplotlib.pyplot as plt\n",
        "import tensorflow as tf\n",
        "from keras_tuner import Hyperband\n"
      ]
    },
    {
      "cell_type": "markdown",
      "source": [
        "Loading and Preprocessing No2 data\n"
      ],
      "metadata": {
        "id": "17tH3NtlJS4f"
      }
    },
    {
      "cell_type": "code",
      "source": [
        "# Load the dataset\n",
        "no2_data = pd.read_csv(\"/content/NO2.csv\")\n",
        "\n",
        "# Preprocess the data\n",
        "def preprocess_data(data, date_column=\"Date\", value_column=\"Daily Max 1-hour NO2 Concentration\"):\n",
        "    data[date_column] = pd.to_datetime(data[date_column])\n",
        "    data = data.loc[:, [date_column, value_column]].copy()\n",
        "    data.rename(columns={value_column: \"NO2\"}, inplace=True)\n",
        "    return data\n",
        "\n",
        "# Preprocess NO2 data\n",
        "no2_data = preprocess_data(no2_data)\n",
        "\n",
        "# Set date as the index\n",
        "no2_data.set_index(\"Date\", inplace=True)\n",
        "\n",
        "# Drop missing values\n",
        "no2_data.dropna(inplace=True)\n",
        "\n",
        "# Normalize the data\n",
        "scaler = MinMaxScaler()\n",
        "no2_scaled = scaler.fit_transform(no2_data)\n",
        "\n",
        "# Create sequences for supervised learning\n",
        "def create_sequences(data, time_steps=7):\n",
        "    X, y = [], []\n",
        "    for i in range(len(data) - time_steps):\n",
        "        X.append(data[i:i + time_steps])\n",
        "        y.append(data[i + time_steps])\n",
        "    return np.array(X), np.array(y)\n",
        "\n",
        "time_steps = 7\n",
        "X, y = create_sequences(no2_scaled, time_steps)\n",
        "\n",
        "# Split into training and testing sets\n",
        "X_train, X_test, y_train, y_test = train_test_split(X, y, test_size=0.2, random_state=42)\n"
      ],
      "metadata": {
        "id": "yCYStF5tD5Et"
      },
      "execution_count": null,
      "outputs": []
    },
    {
      "cell_type": "markdown",
      "source": [],
      "metadata": {
        "id": "r6XwaJmKXF_C"
      }
    },
    {
      "cell_type": "markdown",
      "source": [
        "Defined LSTM with attention mechanism"
      ],
      "metadata": {
        "id": "l3od4HeUJWdS"
      }
    },
    {
      "cell_type": "code",
      "source": [
        "def lstm_with_attention(input_shape):\n",
        "    inputs = Input(shape=input_shape)\n",
        "    lstm_out = LSTM(64, return_sequences=True)(inputs)\n",
        "    lstm_out = Dropout(0.2)(lstm_out)\n",
        "\n",
        "    # Attention Mechanism\n",
        "    attention_scores = Dense(1, activation=\"tanh\")(lstm_out)\n",
        "    attention_weights = tf.nn.softmax(attention_scores, axis=1)\n",
        "    context_vector = attention_weights * lstm_out\n",
        "    context_vector = tf.reduce_sum(context_vector, axis=1)\n",
        "\n",
        "    dense_out = Dense(1)(context_vector)\n",
        "\n",
        "    model = Model(inputs=inputs, outputs=dense_out)\n",
        "    model.compile(optimizer=\"adam\", loss=\"mean_squared_error\", metrics=[\"mae\"])\n",
        "    return model\n"
      ],
      "metadata": {
        "id": "pm1rueuWHVME"
      },
      "execution_count": null,
      "outputs": []
    },
    {
      "cell_type": "markdown",
      "source": [
        "Created a custom attention layer"
      ],
      "metadata": {
        "id": "-lP_zUBAJ9Fa"
      }
    },
    {
      "cell_type": "code",
      "source": [
        "from tensorflow.keras.layers import Layer, Softmax, Dense\n",
        "\n",
        "class AttentionLayer(Layer):\n",
        "    def __init__(self, **kwargs):\n",
        "        super(AttentionLayer, self).__init__(**kwargs)\n",
        "        self.score_dense = Dense(1, activation=\"tanh\")  # Initialize the Dense layer here\n",
        "        self.softmax = Softmax(axis=1)  # Initialize Softmax here\n",
        "\n",
        "    def call(self, inputs):\n",
        "        attention_scores = self.score_dense(inputs)  # Use the initialized Dense layer\n",
        "        attention_weights = self.softmax(attention_scores)  # Apply Softmax\n",
        "        context_vector = attention_weights * inputs\n",
        "        context_vector = tf.reduce_sum(context_vector, axis=1)\n",
        "        return context_vector\n",
        "\n",
        "# Updated build_model function\n",
        "def build_model(hp):\n",
        "    inputs = Input(shape=(X_train.shape[1], X_train.shape[2]))\n",
        "    lstm_out = LSTM(\n",
        "        units=hp.Int(\"units\", min_value=32, max_value=128, step=32), return_sequences=True\n",
        "    )(inputs)\n",
        "    lstm_out = Dropout(hp.Float(\"dropout\", min_value=0.1, max_value=0.5, step=0.1))(lstm_out)\n",
        "\n",
        "    # Add the custom Attention Layer\n",
        "    context_vector = AttentionLayer()(lstm_out)\n",
        "\n",
        "    dense_out = Dense(1)(context_vector)\n",
        "\n",
        "    model = Model(inputs=inputs, outputs=dense_out)\n",
        "    model.compile(optimizer=\"adam\", loss=\"mean_squared_error\", metrics=[\"mae\"])\n",
        "    return model"
      ],
      "metadata": {
        "id": "L7D9QhUMJ8QA"
      },
      "execution_count": null,
      "outputs": []
    },
    {
      "cell_type": "markdown",
      "source": [
        "Hyperparameter tuning"
      ],
      "metadata": {
        "id": "M2X8hqRAJcyp"
      }
    },
    {
      "cell_type": "code",
      "source": [
        "tuner = Hyperband(\n",
        "    build_model,\n",
        "    objective=\"val_loss\",\n",
        "    max_epochs=10,\n",
        "    factor=3,\n",
        "    directory=\"tuning_results_no2\",\n",
        "    project_name=\"no2_lstm\",\n",
        ")\n",
        "\n",
        "# Perform the search\n",
        "tuner.search(X_train, y_train, validation_data=(X_test, y_test), epochs=10, batch_size=32)\n",
        "best_hps = tuner.get_best_hyperparameters(num_trials=1)[0]\n",
        "model = tuner.hypermodel.build(best_hps)\n"
      ],
      "metadata": {
        "colab": {
          "base_uri": "https://localhost:8080/"
        },
        "id": "xrqSjY5wJb1Q",
        "outputId": "41ed8d9b-fee6-47d6-d6c3-005de62b646a"
      },
      "execution_count": null,
      "outputs": [
        {
          "output_type": "stream",
          "name": "stdout",
          "text": [
            "Trial 23 Complete [00h 00m 06s]\n",
            "val_loss: 0.030402563512325287\n",
            "\n",
            "Best val_loss So Far: 0.02979492023587227\n",
            "Total elapsed time: 00h 05m 09s\n"
          ]
        }
      ]
    },
    {
      "cell_type": "markdown",
      "source": [
        "Training the model"
      ],
      "metadata": {
        "id": "JDzk35jhL5UJ"
      }
    },
    {
      "cell_type": "code",
      "source": [
        "# Train the model\n",
        "history = model.fit(X_train, y_train, epochs=50, batch_size=32, validation_data=(X_test, y_test), verbose=1)\n"
      ],
      "metadata": {
        "colab": {
          "base_uri": "https://localhost:8080/"
        },
        "id": "juZ0BEhdJgC1",
        "outputId": "b868a455-be1a-43f5-d2c4-a5a8fb7d5bfb"
      },
      "execution_count": null,
      "outputs": [
        {
          "output_type": "stream",
          "name": "stdout",
          "text": [
            "Epoch 1/50\n",
            "\u001b[1m6/6\u001b[0m \u001b[32m━━━━━━━━━━━━━━━━━━━━\u001b[0m\u001b[37m\u001b[0m \u001b[1m0s\u001b[0m 36ms/step - loss: 0.0291 - mae: 0.1338 - val_loss: 0.0315 - val_mae: 0.1497\n",
            "Epoch 2/50\n",
            "\u001b[1m6/6\u001b[0m \u001b[32m━━━━━━━━━━━━━━━━━━━━\u001b[0m\u001b[37m\u001b[0m \u001b[1m0s\u001b[0m 21ms/step - loss: 0.0330 - mae: 0.1443 - val_loss: 0.0325 - val_mae: 0.1521\n",
            "Epoch 3/50\n",
            "\u001b[1m6/6\u001b[0m \u001b[32m━━━━━━━━━━━━━━━━━━━━\u001b[0m\u001b[37m\u001b[0m \u001b[1m0s\u001b[0m 18ms/step - loss: 0.0329 - mae: 0.1422 - val_loss: 0.0328 - val_mae: 0.1527\n",
            "Epoch 4/50\n",
            "\u001b[1m6/6\u001b[0m \u001b[32m━━━━━━━━━━━━━━━━━━━━\u001b[0m\u001b[37m\u001b[0m \u001b[1m0s\u001b[0m 21ms/step - loss: 0.0326 - mae: 0.1417 - val_loss: 0.0323 - val_mae: 0.1516\n",
            "Epoch 5/50\n",
            "\u001b[1m6/6\u001b[0m \u001b[32m━━━━━━━━━━━━━━━━━━━━\u001b[0m\u001b[37m\u001b[0m \u001b[1m0s\u001b[0m 25ms/step - loss: 0.0302 - mae: 0.1371 - val_loss: 0.0314 - val_mae: 0.1496\n",
            "Epoch 6/50\n",
            "\u001b[1m6/6\u001b[0m \u001b[32m━━━━━━━━━━━━━━━━━━━━\u001b[0m\u001b[37m\u001b[0m \u001b[1m0s\u001b[0m 13ms/step - loss: 0.0323 - mae: 0.1401 - val_loss: 0.0312 - val_mae: 0.1488\n",
            "Epoch 7/50\n",
            "\u001b[1m6/6\u001b[0m \u001b[32m━━━━━━━━━━━━━━━━━━━━\u001b[0m\u001b[37m\u001b[0m \u001b[1m0s\u001b[0m 12ms/step - loss: 0.0339 - mae: 0.1425 - val_loss: 0.0302 - val_mae: 0.1455\n",
            "Epoch 8/50\n",
            "\u001b[1m6/6\u001b[0m \u001b[32m━━━━━━━━━━━━━━━━━━━━\u001b[0m\u001b[37m\u001b[0m \u001b[1m0s\u001b[0m 15ms/step - loss: 0.0343 - mae: 0.1398 - val_loss: 0.0307 - val_mae: 0.1473\n",
            "Epoch 9/50\n",
            "\u001b[1m6/6\u001b[0m \u001b[32m━━━━━━━━━━━━━━━━━━━━\u001b[0m\u001b[37m\u001b[0m \u001b[1m0s\u001b[0m 15ms/step - loss: 0.0338 - mae: 0.1386 - val_loss: 0.0303 - val_mae: 0.1462\n",
            "Epoch 10/50\n",
            "\u001b[1m6/6\u001b[0m \u001b[32m━━━━━━━━━━━━━━━━━━━━\u001b[0m\u001b[37m\u001b[0m \u001b[1m0s\u001b[0m 15ms/step - loss: 0.0367 - mae: 0.1463 - val_loss: 0.0308 - val_mae: 0.1480\n",
            "Epoch 11/50\n",
            "\u001b[1m6/6\u001b[0m \u001b[32m━━━━━━━━━━━━━━━━━━━━\u001b[0m\u001b[37m\u001b[0m \u001b[1m0s\u001b[0m 12ms/step - loss: 0.0272 - mae: 0.1298 - val_loss: 0.0316 - val_mae: 0.1501\n",
            "Epoch 12/50\n",
            "\u001b[1m6/6\u001b[0m \u001b[32m━━━━━━━━━━━━━━━━━━━━\u001b[0m\u001b[37m\u001b[0m \u001b[1m0s\u001b[0m 12ms/step - loss: 0.0289 - mae: 0.1356 - val_loss: 0.0327 - val_mae: 0.1527\n",
            "Epoch 13/50\n",
            "\u001b[1m6/6\u001b[0m \u001b[32m━━━━━━━━━━━━━━━━━━━━\u001b[0m\u001b[37m\u001b[0m \u001b[1m0s\u001b[0m 12ms/step - loss: 0.0403 - mae: 0.1575 - val_loss: 0.0310 - val_mae: 0.1486\n",
            "Epoch 14/50\n",
            "\u001b[1m6/6\u001b[0m \u001b[32m━━━━━━━━━━━━━━━━━━━━\u001b[0m\u001b[37m\u001b[0m \u001b[1m0s\u001b[0m 12ms/step - loss: 0.0353 - mae: 0.1442 - val_loss: 0.0302 - val_mae: 0.1459\n",
            "Epoch 15/50\n",
            "\u001b[1m6/6\u001b[0m \u001b[32m━━━━━━━━━━━━━━━━━━━━\u001b[0m\u001b[37m\u001b[0m \u001b[1m0s\u001b[0m 11ms/step - loss: 0.0294 - mae: 0.1304 - val_loss: 0.0303 - val_mae: 0.1462\n",
            "Epoch 16/50\n",
            "\u001b[1m6/6\u001b[0m \u001b[32m━━━━━━━━━━━━━━━━━━━━\u001b[0m\u001b[37m\u001b[0m \u001b[1m0s\u001b[0m 15ms/step - loss: 0.0354 - mae: 0.1436 - val_loss: 0.0310 - val_mae: 0.1487\n",
            "Epoch 17/50\n",
            "\u001b[1m6/6\u001b[0m \u001b[32m━━━━━━━━━━━━━━━━━━━━\u001b[0m\u001b[37m\u001b[0m \u001b[1m0s\u001b[0m 15ms/step - loss: 0.0312 - mae: 0.1384 - val_loss: 0.0320 - val_mae: 0.1511\n",
            "Epoch 18/50\n",
            "\u001b[1m6/6\u001b[0m \u001b[32m━━━━━━━━━━━━━━━━━━━━\u001b[0m\u001b[37m\u001b[0m \u001b[1m0s\u001b[0m 19ms/step - loss: 0.0350 - mae: 0.1488 - val_loss: 0.0320 - val_mae: 0.1512\n",
            "Epoch 19/50\n",
            "\u001b[1m6/6\u001b[0m \u001b[32m━━━━━━━━━━━━━━━━━━━━\u001b[0m\u001b[37m\u001b[0m \u001b[1m0s\u001b[0m 18ms/step - loss: 0.0357 - mae: 0.1487 - val_loss: 0.0310 - val_mae: 0.1485\n",
            "Epoch 20/50\n",
            "\u001b[1m6/6\u001b[0m \u001b[32m━━━━━━━━━━━━━━━━━━━━\u001b[0m\u001b[37m\u001b[0m \u001b[1m0s\u001b[0m 15ms/step - loss: 0.0363 - mae: 0.1445 - val_loss: 0.0306 - val_mae: 0.1473\n",
            "Epoch 21/50\n",
            "\u001b[1m6/6\u001b[0m \u001b[32m━━━━━━━━━━━━━━━━━━━━\u001b[0m\u001b[37m\u001b[0m \u001b[1m0s\u001b[0m 12ms/step - loss: 0.0314 - mae: 0.1415 - val_loss: 0.0304 - val_mae: 0.1468\n",
            "Epoch 22/50\n",
            "\u001b[1m6/6\u001b[0m \u001b[32m━━━━━━━━━━━━━━━━━━━━\u001b[0m\u001b[37m\u001b[0m \u001b[1m0s\u001b[0m 12ms/step - loss: 0.0323 - mae: 0.1380 - val_loss: 0.0323 - val_mae: 0.1521\n",
            "Epoch 23/50\n",
            "\u001b[1m6/6\u001b[0m \u001b[32m━━━━━━━━━━━━━━━━━━━━\u001b[0m\u001b[37m\u001b[0m \u001b[1m0s\u001b[0m 15ms/step - loss: 0.0333 - mae: 0.1459 - val_loss: 0.0320 - val_mae: 0.1513\n",
            "Epoch 24/50\n",
            "\u001b[1m6/6\u001b[0m \u001b[32m━━━━━━━━━━━━━━━━━━━━\u001b[0m\u001b[37m\u001b[0m \u001b[1m0s\u001b[0m 12ms/step - loss: 0.0352 - mae: 0.1469 - val_loss: 0.0310 - val_mae: 0.1488\n",
            "Epoch 25/50\n",
            "\u001b[1m6/6\u001b[0m \u001b[32m━━━━━━━━━━━━━━━━━━━━\u001b[0m\u001b[37m\u001b[0m \u001b[1m0s\u001b[0m 15ms/step - loss: 0.0311 - mae: 0.1383 - val_loss: 0.0302 - val_mae: 0.1459\n",
            "Epoch 26/50\n",
            "\u001b[1m6/6\u001b[0m \u001b[32m━━━━━━━━━━━━━━━━━━━━\u001b[0m\u001b[37m\u001b[0m \u001b[1m0s\u001b[0m 18ms/step - loss: 0.0348 - mae: 0.1442 - val_loss: 0.0305 - val_mae: 0.1470\n",
            "Epoch 27/50\n",
            "\u001b[1m6/6\u001b[0m \u001b[32m━━━━━━━━━━━━━━━━━━━━\u001b[0m\u001b[37m\u001b[0m \u001b[1m0s\u001b[0m 21ms/step - loss: 0.0307 - mae: 0.1330 - val_loss: 0.0310 - val_mae: 0.1488\n",
            "Epoch 28/50\n",
            "\u001b[1m6/6\u001b[0m \u001b[32m━━━━━━━━━━━━━━━━━━━━\u001b[0m\u001b[37m\u001b[0m \u001b[1m0s\u001b[0m 19ms/step - loss: 0.0368 - mae: 0.1499 - val_loss: 0.0327 - val_mae: 0.1530\n",
            "Epoch 29/50\n",
            "\u001b[1m6/6\u001b[0m \u001b[32m━━━━━━━━━━━━━━━━━━━━\u001b[0m\u001b[37m\u001b[0m \u001b[1m0s\u001b[0m 19ms/step - loss: 0.0322 - mae: 0.1429 - val_loss: 0.0310 - val_mae: 0.1487\n",
            "Epoch 30/50\n",
            "\u001b[1m6/6\u001b[0m \u001b[32m━━━━━━━━━━━━━━━━━━━━\u001b[0m\u001b[37m\u001b[0m \u001b[1m0s\u001b[0m 17ms/step - loss: 0.0304 - mae: 0.1373 - val_loss: 0.0299 - val_mae: 0.1448\n",
            "Epoch 31/50\n",
            "\u001b[1m6/6\u001b[0m \u001b[32m━━━━━━━━━━━━━━━━━━━━\u001b[0m\u001b[37m\u001b[0m \u001b[1m0s\u001b[0m 20ms/step - loss: 0.0322 - mae: 0.1396 - val_loss: 0.0307 - val_mae: 0.1477\n",
            "Epoch 32/50\n",
            "\u001b[1m6/6\u001b[0m \u001b[32m━━━━━━━━━━━━━━━━━━━━\u001b[0m\u001b[37m\u001b[0m \u001b[1m0s\u001b[0m 19ms/step - loss: 0.0296 - mae: 0.1333 - val_loss: 0.0306 - val_mae: 0.1475\n",
            "Epoch 33/50\n",
            "\u001b[1m6/6\u001b[0m \u001b[32m━━━━━━━━━━━━━━━━━━━━\u001b[0m\u001b[37m\u001b[0m \u001b[1m0s\u001b[0m 18ms/step - loss: 0.0339 - mae: 0.1404 - val_loss: 0.0307 - val_mae: 0.1480\n",
            "Epoch 34/50\n",
            "\u001b[1m6/6\u001b[0m \u001b[32m━━━━━━━━━━━━━━━━━━━━\u001b[0m\u001b[37m\u001b[0m \u001b[1m0s\u001b[0m 20ms/step - loss: 0.0298 - mae: 0.1374 - val_loss: 0.0316 - val_mae: 0.1503\n",
            "Epoch 35/50\n",
            "\u001b[1m6/6\u001b[0m \u001b[32m━━━━━━━━━━━━━━━━━━━━\u001b[0m\u001b[37m\u001b[0m \u001b[1m0s\u001b[0m 16ms/step - loss: 0.0323 - mae: 0.1435 - val_loss: 0.0314 - val_mae: 0.1499\n",
            "Epoch 36/50\n",
            "\u001b[1m6/6\u001b[0m \u001b[32m━━━━━━━━━━━━━━━━━━━━\u001b[0m\u001b[37m\u001b[0m \u001b[1m0s\u001b[0m 16ms/step - loss: 0.0303 - mae: 0.1369 - val_loss: 0.0313 - val_mae: 0.1497\n",
            "Epoch 37/50\n",
            "\u001b[1m6/6\u001b[0m \u001b[32m━━━━━━━━━━━━━━━━━━━━\u001b[0m\u001b[37m\u001b[0m \u001b[1m0s\u001b[0m 20ms/step - loss: 0.0298 - mae: 0.1334 - val_loss: 0.0306 - val_mae: 0.1477\n",
            "Epoch 38/50\n",
            "\u001b[1m6/6\u001b[0m \u001b[32m━━━━━━━━━━━━━━━━━━━━\u001b[0m\u001b[37m\u001b[0m \u001b[1m0s\u001b[0m 22ms/step - loss: 0.0327 - mae: 0.1416 - val_loss: 0.0312 - val_mae: 0.1493\n",
            "Epoch 39/50\n",
            "\u001b[1m6/6\u001b[0m \u001b[32m━━━━━━━━━━━━━━━━━━━━\u001b[0m\u001b[37m\u001b[0m \u001b[1m0s\u001b[0m 24ms/step - loss: 0.0295 - mae: 0.1355 - val_loss: 0.0306 - val_mae: 0.1475\n",
            "Epoch 40/50\n",
            "\u001b[1m6/6\u001b[0m \u001b[32m━━━━━━━━━━━━━━━━━━━━\u001b[0m\u001b[37m\u001b[0m \u001b[1m0s\u001b[0m 20ms/step - loss: 0.0303 - mae: 0.1355 - val_loss: 0.0297 - val_mae: 0.1438\n",
            "Epoch 41/50\n",
            "\u001b[1m6/6\u001b[0m \u001b[32m━━━━━━━━━━━━━━━━━━━━\u001b[0m\u001b[37m\u001b[0m \u001b[1m0s\u001b[0m 19ms/step - loss: 0.0335 - mae: 0.1423 - val_loss: 0.0304 - val_mae: 0.1470\n",
            "Epoch 42/50\n",
            "\u001b[1m6/6\u001b[0m \u001b[32m━━━━━━━━━━━━━━━━━━━━\u001b[0m\u001b[37m\u001b[0m \u001b[1m0s\u001b[0m 22ms/step - loss: 0.0309 - mae: 0.1401 - val_loss: 0.0312 - val_mae: 0.1494\n",
            "Epoch 43/50\n",
            "\u001b[1m6/6\u001b[0m \u001b[32m━━━━━━━━━━━━━━━━━━━━\u001b[0m\u001b[37m\u001b[0m \u001b[1m0s\u001b[0m 24ms/step - loss: 0.0322 - mae: 0.1415 - val_loss: 0.0310 - val_mae: 0.1488\n",
            "Epoch 44/50\n",
            "\u001b[1m6/6\u001b[0m \u001b[32m━━━━━━━━━━━━━━━━━━━━\u001b[0m\u001b[37m\u001b[0m \u001b[1m0s\u001b[0m 19ms/step - loss: 0.0304 - mae: 0.1331 - val_loss: 0.0308 - val_mae: 0.1482\n",
            "Epoch 45/50\n",
            "\u001b[1m6/6\u001b[0m \u001b[32m━━━━━━━━━━━━━━━━━━━━\u001b[0m\u001b[37m\u001b[0m \u001b[1m0s\u001b[0m 13ms/step - loss: 0.0326 - mae: 0.1423 - val_loss: 0.0308 - val_mae: 0.1483\n",
            "Epoch 46/50\n",
            "\u001b[1m6/6\u001b[0m \u001b[32m━━━━━━━━━━━━━━━━━━━━\u001b[0m\u001b[37m\u001b[0m \u001b[1m0s\u001b[0m 12ms/step - loss: 0.0295 - mae: 0.1367 - val_loss: 0.0321 - val_mae: 0.1518\n",
            "Epoch 47/50\n",
            "\u001b[1m6/6\u001b[0m \u001b[32m━━━━━━━━━━━━━━━━━━━━\u001b[0m\u001b[37m\u001b[0m \u001b[1m0s\u001b[0m 12ms/step - loss: 0.0281 - mae: 0.1334 - val_loss: 0.0312 - val_mae: 0.1494\n",
            "Epoch 48/50\n",
            "\u001b[1m6/6\u001b[0m \u001b[32m━━━━━━━━━━━━━━━━━━━━\u001b[0m\u001b[37m\u001b[0m \u001b[1m0s\u001b[0m 11ms/step - loss: 0.0307 - mae: 0.1385 - val_loss: 0.0307 - val_mae: 0.1481\n",
            "Epoch 49/50\n",
            "\u001b[1m6/6\u001b[0m \u001b[32m━━━━━━━━━━━━━━━━━━━━\u001b[0m\u001b[37m\u001b[0m \u001b[1m0s\u001b[0m 13ms/step - loss: 0.0286 - mae: 0.1330 - val_loss: 0.0304 - val_mae: 0.1470\n",
            "Epoch 50/50\n",
            "\u001b[1m6/6\u001b[0m \u001b[32m━━━━━━━━━━━━━━━━━━━━\u001b[0m\u001b[37m\u001b[0m \u001b[1m0s\u001b[0m 15ms/step - loss: 0.0375 - mae: 0.1514 - val_loss: 0.0314 - val_mae: 0.1498\n"
          ]
        }
      ]
    },
    {
      "cell_type": "markdown",
      "source": [
        "Evaluation and plot prediction"
      ],
      "metadata": {
        "id": "vwJXjPfpMhGO"
      }
    },
    {
      "cell_type": "code",
      "source": [
        "# Evaluate the model\n",
        "loss, mae = model.evaluate(X_test, y_test, verbose=0)\n",
        "print(f\"Test Loss: {loss}\")\n",
        "print(f\"Test MAE: {mae}\")\n",
        "\n",
        "# Predict on the test data\n",
        "y_pred = model.predict(X_test)\n",
        "\n",
        "# Inverse transform predictions and actual values\n",
        "y_test_rescaled = scaler.inverse_transform(y_test)\n",
        "y_pred_rescaled = scaler.inverse_transform(y_pred)\n",
        "\n",
        "# Plot Actual vs Predicted for each pollutant\n",
        "# Visualize Actual vs Predicted NO2\n",
        "plt.figure(figsize=(8, 4))\n",
        "plt.plot(y_test_rescaled, label=\"Actual NO2\", color='blue')\n",
        "plt.plot(y_pred_rescaled, label=\"Predicted NO2\", linestyle='--', color='orange')\n",
        "plt.title(\"NO2 Predictions vs Actual\")\n",
        "plt.xlabel(\"Time Steps\")\n",
        "plt.ylabel(\"NO2 Concentration\")\n",
        "plt.legend()\n",
        "plt.show()\n",
        "\n"
      ],
      "metadata": {
        "colab": {
          "base_uri": "https://localhost:8080/",
          "height": 462
        },
        "id": "wh9AVlz8L7QJ",
        "outputId": "7610b9eb-1dc2-4d5b-8ff0-27fd34028f99"
      },
      "execution_count": null,
      "outputs": [
        {
          "output_type": "stream",
          "name": "stdout",
          "text": [
            "Test Loss: 0.031356681138277054\n",
            "Test MAE: 0.1498299241065979\n",
            "\u001b[1m2/2\u001b[0m \u001b[32m━━━━━━━━━━━━━━━━━━━━\u001b[0m\u001b[37m\u001b[0m \u001b[1m0s\u001b[0m 8ms/step \n"
          ]
        },
        {
          "output_type": "display_data",
          "data": {
            "text/plain": [
              "<Figure size 800x400 with 1 Axes>"
            ],
            "image/png": "[encoded data removed]"
          },
          "metadata": {}
        }
      ]
    },
    {
      "cell_type": "code",
      "source": [],
      "metadata": {
        "id": "6erMCEjTMjYu"
      },
      "execution_count": null,
      "outputs": []
    }
  ]
}